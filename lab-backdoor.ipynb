{
 "cells": [
  {
   "attachments": {},
   "cell_type": "markdown",
   "metadata": {},
   "source": [
    "## Lab-2: Implement BadNets & Blending Attacks"
   ]
  },
  {
   "cell_type": "code",
   "execution_count": 7,
   "metadata": {},
   "outputs": [],
   "source": [
    "import os\n",
    "import matplotlib.pyplot as plt\n",
    "import torch\n",
    "import torch.nn as nn\n",
    "from torch.utils.data import Dataset\n",
    "import torchvision\n",
    "from torchvision.transforms import Compose, ToTensor, PILToTensor, RandomHorizontalFlip\n",
    "from BackdoorBox import core"
   ]
  },
  {
   "attachments": {},
   "cell_type": "markdown",
   "metadata": {},
   "source": [
    "### Global settings"
   ]
  },
  {
   "cell_type": "code",
   "execution_count": 8,
   "metadata": {},
   "outputs": [],
   "source": [
    "global_seed = 666\n",
    "deterministic = True\n",
    "torch.manual_seed(global_seed)\n",
    "CUDA_VISIBLE_DEVICES = '0'\n",
    "datasets_root_dir = './datasets'"
   ]
  },
  {
   "attachments": {},
   "cell_type": "markdown",
   "metadata": {},
   "source": [
    "### Design your pattern"
   ]
  },
  {
   "cell_type": "code",
   "execution_count": 9,
   "metadata": {},
   "outputs": [
    {
     "data": {
      "image/png": "[encoded data removed]",
      "text/plain": [
       "<Figure size 640x480 with 1 Axes>"
      ]
     },
     "metadata": {},
     "output_type": "display_data"
    }
   ],
   "source": [
    "# design your pattern\n",
    "pattern = torch.zeros((28, 28), dtype=torch.uint8)\n",
    "pattern[-3:, -3:] = 255\n",
    "# weight represents the transparency of the pattern when blending with the original image\n",
    "weight = torch.zeros((28, 28), dtype=torch.float32)\n",
    "weight[-3:, -3:] = 1.0\n",
    "\n",
    "# plot the pattern\n",
    "plt.imshow(pattern, cmap='gray')\n",
    "plt.show()"
   ]
  },
  {
   "attachments": {},
   "cell_type": "markdown",
   "metadata": {},
   "source": [
    "### Load the badnet model to create posioned dataset w.r.t. the pattern"
   ]
  },
  {
   "cell_type": "code",
   "execution_count": 10,
   "metadata": {},
   "outputs": [],
   "source": [
    "import random\n",
    "\n",
    "dataset = torchvision.datasets.MNIST\n",
    "\n",
    "transform_train = Compose([\n",
    "    ToTensor()\n",
    "])\n",
    "trainset = dataset(datasets_root_dir, train=True, transform=transform_train, download=True)\n",
    "\n",
    "transform_test = Compose([\n",
    "    ToTensor()\n",
    "])\n",
    "testset = dataset(datasets_root_dir, train=False, transform=transform_test, download=True)\n",
    "\n",
    "\n",
    "badnets = core.BadNets(\n",
    "    train_dataset=trainset,\n",
    "    test_dataset=testset,\n",
    "    model=core.models.BaselineMNISTNetwork(),\n",
    "    loss=nn.CrossEntropyLoss(),\n",
    "    y_target=1,\n",
    "    poisoned_rate=0.05,\n",
    "    pattern=pattern,\n",
    "    weight=weight,\n",
    "    seed=global_seed,\n",
    "    deterministic=deterministic\n",
    ")\n"
   ]
  },
  {
   "attachments": {},
   "cell_type": "markdown",
   "metadata": {},
   "source": [
    "### Look at the poisoned images and their labels"
   ]
  },
  {
   "cell_type": "code",
   "execution_count": 18,
   "metadata": {},
   "outputs": [
    {
     "data": {
      "image/png": "[encoded data removed]",
      "text/plain": [
       "<Figure size 640x480 with 2 Axes>"
      ]
     },
     "metadata": {},
     "output_type": "display_data"
    }
   ],
   "source": [
    "def check_image(attack_model):\n",
    "    poisoned_train_dataset, poisoned_test_dataset = attack_model.get_poisoned_dataset()\n",
    "    # print(len(poisoned_test_dataset.poisoned_set) == len(poisoned_test_dataset)) # True: all test data are poisoned\n",
    "\n",
    "    index_poisoned = random.choice(list(poisoned_train_dataset.poisoned_set))\n",
    "    index_not_poisoned = random.choice(list(set(range(len(poisoned_train_dataset))) - poisoned_train_dataset.poisoned_set))\n",
    "\n",
    "    poisoned_img, poisoned_target = poisoned_train_dataset[index_poisoned]\n",
    "    not_poisoned_img, not_poisoned_target = poisoned_train_dataset[index_not_poisoned]\n",
    "\n",
    "    fig, ax = plt.subplots(1,2)\n",
    "    ax[0].imshow(poisoned_img[0], cmap='gray')\n",
    "    ax[1].imshow(not_poisoned_img[0], cmap='gray')\n",
    "    ax[0].set_title(f'Label: {poisoned_target}')\n",
    "    ax[1].set_title(f'Label: {not_poisoned_target}')\n",
    "\n",
    "check_image(badnets)"
   ]
  },
  {
   "attachments": {},
   "cell_type": "markdown",
   "metadata": {},
   "source": [
    "### Train a backdoor model using poisoned training dataset"
   ]
  },
  {
   "cell_type": "code",
   "execution_count": 19,
   "metadata": {},
   "outputs": [
    {
     "name": "stdout",
     "output_type": "stream",
     "text": [
      "This machine has 1 cuda devices, and use 1 of them to train.\n",
      "Total train samples: 60000\n",
      "Total test samples: 10000\n",
      "Batch size: 128\n",
      "iteration every epoch: 468\n",
      "Initial learning rate: 0.1\n",
      "\n",
      "[2023-02-15_18:22:34] Epoch:1/20, iteration:468/468, lr: 0.1, loss: 0.009112267754971981, time: 3.909886121749878\n",
      "\n",
      "==========Test result on benign test dataset==========\n",
      "[2023-02-15_18:22:35] Top-1 correct / Total: 9889/10000, Top-1 accuracy: 0.9889, Top-5 correct / Total: 10000/10000, Top-5 accuracy: 1.0, time: 0.8595783710479736\n",
      "\n",
      "==========Test result on poisoned test dataset==========\n",
      "[2023-02-15_18:22:36] Top-1 correct / Total: 10000/10000, Top-1 accuracy: 1.0, Top-5 correct / Total: 10000/10000, Top-5 accuracy: 1.0, time: 2.196087598800659\n",
      "\n",
      "[2023-02-15_18:22:40] Epoch:2/20, iteration:467/468, lr: 0.1, loss: 0.007650971878319979, time: 6.532212734222412\n",
      "\n",
      "==========Test result on benign test dataset==========\n",
      "[2023-02-15_18:22:41] Top-1 correct / Total: 9872/10000, Top-1 accuracy: 0.9872, Top-5 correct / Total: 9998/10000, Top-5 accuracy: 0.9998, time: 0.8360159397125244\n",
      "\n",
      "==========Test result on poisoned test dataset==========\n",
      "[2023-02-15_18:22:42] Top-1 correct / Total: 9994/10000, Top-1 accuracy: 0.9994, Top-5 correct / Total: 10000/10000, Top-5 accuracy: 1.0, time: 2.215986490249634\n",
      "\n",
      "[2023-02-15_18:22:47] Epoch:3/20, iteration:466/468, lr: 0.1, loss: 0.06520996987819672, time: 6.300934791564941\n",
      "\n",
      "==========Test result on benign test dataset==========\n",
      "[2023-02-15_18:22:47] Top-1 correct / Total: 9900/10000, Top-1 accuracy: 0.99, Top-5 correct / Total: 10000/10000, Top-5 accuracy: 1.0, time: 0.7627744674682617\n",
      "\n",
      "==========Test result on poisoned test dataset==========\n",
      "[2023-02-15_18:22:48] Top-1 correct / Total: 9993/10000, Top-1 accuracy: 0.9993, Top-5 correct / Total: 10000/10000, Top-5 accuracy: 1.0, time: 1.9108850955963135\n",
      "\n",
      "[2023-02-15_18:22:53] Epoch:4/20, iteration:465/468, lr: 0.1, loss: 0.06334518641233444, time: 6.159528732299805\n",
      "\n",
      "==========Test result on benign test dataset==========\n",
      "[2023-02-15_18:22:54] Top-1 correct / Total: 9865/10000, Top-1 accuracy: 0.9865, Top-5 correct / Total: 10000/10000, Top-5 accuracy: 1.0, time: 0.8644108772277832\n",
      "\n",
      "==========Test result on poisoned test dataset==========\n",
      "[2023-02-15_18:22:55] Top-1 correct / Total: 9993/10000, Top-1 accuracy: 0.9993, Top-5 correct / Total: 10000/10000, Top-5 accuracy: 1.0, time: 2.165971279144287\n",
      "\n",
      "[2023-02-15_18:22:59] Epoch:5/20, iteration:464/468, lr: 0.1, loss: 0.009554930031299591, time: 6.3309478759765625\n",
      "\n",
      "==========Test result on benign test dataset==========\n",
      "[2023-02-15_18:23:00] Top-1 correct / Total: 9881/10000, Top-1 accuracy: 0.9881, Top-5 correct / Total: 10000/10000, Top-5 accuracy: 1.0, time: 0.861217737197876\n",
      "\n",
      "==========Test result on poisoned test dataset==========\n",
      "[2023-02-15_18:23:01] Top-1 correct / Total: 9994/10000, Top-1 accuracy: 0.9994, Top-5 correct / Total: 10000/10000, Top-5 accuracy: 1.0, time: 2.1899826526641846\n",
      "\n",
      "[2023-02-15_18:23:05] Epoch:6/20, iteration:463/468, lr: 0.1, loss: 0.06739667057991028, time: 6.355021238327026\n",
      "\n",
      "==========Test result on benign test dataset==========\n",
      "[2023-02-15_18:23:06] Top-1 correct / Total: 9887/10000, Top-1 accuracy: 0.9887, Top-5 correct / Total: 10000/10000, Top-5 accuracy: 1.0, time: 0.8003330230712891\n",
      "\n",
      "==========Test result on poisoned test dataset==========\n",
      "[2023-02-15_18:23:07] Top-1 correct / Total: 9983/10000, Top-1 accuracy: 0.9983, Top-5 correct / Total: 10000/10000, Top-5 accuracy: 1.0, time: 1.9342098236083984\n",
      "\n",
      "[2023-02-15_18:23:11] Epoch:7/20, iteration:462/468, lr: 0.1, loss: 0.005075263325124979, time: 5.757801294326782\n",
      "\n",
      "==========Test result on benign test dataset==========\n",
      "[2023-02-15_18:23:12] Top-1 correct / Total: 9891/10000, Top-1 accuracy: 0.9891, Top-5 correct / Total: 10000/10000, Top-5 accuracy: 1.0, time: 0.7921905517578125\n",
      "\n",
      "==========Test result on poisoned test dataset==========\n",
      "[2023-02-15_18:23:13] Top-1 correct / Total: 9998/10000, Top-1 accuracy: 0.9998, Top-5 correct / Total: 10000/10000, Top-5 accuracy: 1.0, time: 1.932042121887207\n",
      "\n",
      "[2023-02-15_18:23:17] Epoch:8/20, iteration:461/468, lr: 0.1, loss: 0.015361873432993889, time: 5.835663080215454\n",
      "\n",
      "==========Test result on benign test dataset==========\n",
      "[2023-02-15_18:23:18] Top-1 correct / Total: 9880/10000, Top-1 accuracy: 0.988, Top-5 correct / Total: 10000/10000, Top-5 accuracy: 1.0, time: 0.8596539497375488\n",
      "\n",
      "==========Test result on poisoned test dataset==========\n",
      "[2023-02-15_18:23:19] Top-1 correct / Total: 9985/10000, Top-1 accuracy: 0.9985, Top-5 correct / Total: 10000/10000, Top-5 accuracy: 1.0, time: 1.989983081817627\n",
      "\n",
      "[2023-02-15_18:23:23] Epoch:9/20, iteration:460/468, lr: 0.1, loss: 0.06395693868398666, time: 5.716012716293335\n",
      "\n",
      "==========Test result on benign test dataset==========\n",
      "[2023-02-15_18:23:23] Top-1 correct / Total: 9887/10000, Top-1 accuracy: 0.9887, Top-5 correct / Total: 10000/10000, Top-5 accuracy: 1.0, time: 0.7834668159484863\n",
      "\n",
      "==========Test result on poisoned test dataset==========\n",
      "[2023-02-15_18:23:25] Top-1 correct / Total: 9989/10000, Top-1 accuracy: 0.9989, Top-5 correct / Total: 10000/10000, Top-5 accuracy: 1.0, time: 1.9490060806274414\n",
      "\n",
      "[2023-02-15_18:23:28] Epoch:10/20, iteration:459/468, lr: 0.1, loss: 0.009137769229710102, time: 5.740856170654297\n",
      "\n",
      "==========Test result on benign test dataset==========\n",
      "[2023-02-15_18:23:29] Top-1 correct / Total: 9901/10000, Top-1 accuracy: 0.9901, Top-5 correct / Total: 9999/10000, Top-5 accuracy: 0.9999, time: 0.8684370517730713\n",
      "\n",
      "==========Test result on poisoned test dataset==========\n",
      "[2023-02-15_18:23:31] Top-1 correct / Total: 9994/10000, Top-1 accuracy: 0.9994, Top-5 correct / Total: 10000/10000, Top-5 accuracy: 1.0, time: 2.1474056243896484\n",
      "\n",
      "[2023-02-15_18:23:35] Epoch:11/20, iteration:458/468, lr: 0.1, loss: 0.009995853528380394, time: 6.198074102401733\n",
      "\n",
      "==========Test result on benign test dataset==========\n",
      "[2023-02-15_18:23:36] Top-1 correct / Total: 9895/10000, Top-1 accuracy: 0.9895, Top-5 correct / Total: 10000/10000, Top-5 accuracy: 1.0, time: 0.8887968063354492\n",
      "\n",
      "==========Test result on poisoned test dataset==========\n",
      "[2023-02-15_18:23:37] Top-1 correct / Total: 9978/10000, Top-1 accuracy: 0.9978, Top-5 correct / Total: 10000/10000, Top-5 accuracy: 1.0, time: 2.1743693351745605\n",
      "\n",
      "[2023-02-15_18:23:41] Epoch:12/20, iteration:457/468, lr: 0.1, loss: 0.019936732947826385, time: 6.309877395629883\n",
      "\n",
      "==========Test result on benign test dataset==========\n",
      "[2023-02-15_18:23:42] Top-1 correct / Total: 9900/10000, Top-1 accuracy: 0.99, Top-5 correct / Total: 10000/10000, Top-5 accuracy: 1.0, time: 0.8795506954193115\n",
      "\n",
      "==========Test result on poisoned test dataset==========\n",
      "[2023-02-15_18:23:43] Top-1 correct / Total: 9995/10000, Top-1 accuracy: 0.9995, Top-5 correct / Total: 10000/10000, Top-5 accuracy: 1.0, time: 2.0434205532073975\n",
      "\n",
      "[2023-02-15_18:23:47] Epoch:13/20, iteration:456/468, lr: 0.1, loss: 0.011507022194564342, time: 5.919798851013184\n",
      "\n",
      "==========Test result on benign test dataset==========\n",
      "[2023-02-15_18:23:48] Top-1 correct / Total: 9876/10000, Top-1 accuracy: 0.9876, Top-5 correct / Total: 9998/10000, Top-5 accuracy: 0.9998, time: 0.9563031196594238\n",
      "\n",
      "==========Test result on poisoned test dataset==========\n",
      "[2023-02-15_18:23:49] Top-1 correct / Total: 9986/10000, Top-1 accuracy: 0.9986, Top-5 correct / Total: 10000/10000, Top-5 accuracy: 1.0, time: 2.148715019226074\n",
      "\n",
      "[2023-02-15_18:23:53] Epoch:14/20, iteration:455/468, lr: 0.1, loss: 0.0061904387548565865, time: 5.89502215385437\n",
      "\n",
      "==========Test result on benign test dataset==========\n",
      "[2023-02-15_18:23:54] Top-1 correct / Total: 9909/10000, Top-1 accuracy: 0.9909, Top-5 correct / Total: 10000/10000, Top-5 accuracy: 1.0, time: 0.8720507621765137\n",
      "\n",
      "==========Test result on poisoned test dataset==========\n",
      "[2023-02-15_18:23:55] Top-1 correct / Total: 9988/10000, Top-1 accuracy: 0.9988, Top-5 correct / Total: 10000/10000, Top-5 accuracy: 1.0, time: 2.0141959190368652\n",
      "\n",
      "[2023-02-15_18:23:59] Epoch:15/20, iteration:454/468, lr: 0.1, loss: 0.028337957337498665, time: 5.899444341659546\n",
      "\n",
      "==========Test result on benign test dataset==========\n",
      "[2023-02-15_18:23:59] Top-1 correct / Total: 9892/10000, Top-1 accuracy: 0.9892, Top-5 correct / Total: 10000/10000, Top-5 accuracy: 1.0, time: 0.7999119758605957\n",
      "\n",
      "==========Test result on poisoned test dataset==========\n",
      "[2023-02-15_18:24:01] Top-1 correct / Total: 9973/10000, Top-1 accuracy: 0.9973, Top-5 correct / Total: 10000/10000, Top-5 accuracy: 1.0, time: 1.9566371440887451\n",
      "\n",
      "[2023-02-15_18:24:05] Epoch:16/20, iteration:453/468, lr: 0.1, loss: 0.03163530305027962, time: 6.12552547454834\n",
      "\n",
      "==========Test result on benign test dataset==========\n",
      "[2023-02-15_18:24:06] Top-1 correct / Total: 9908/10000, Top-1 accuracy: 0.9908, Top-5 correct / Total: 9998/10000, Top-5 accuracy: 0.9998, time: 0.9042656421661377\n",
      "\n",
      "==========Test result on poisoned test dataset==========\n",
      "[2023-02-15_18:24:07] Top-1 correct / Total: 9998/10000, Top-1 accuracy: 0.9998, Top-5 correct / Total: 10000/10000, Top-5 accuracy: 1.0, time: 2.1418590545654297\n",
      "\n",
      "[2023-02-15_18:24:11] Epoch:17/20, iteration:452/468, lr: 0.1, loss: 0.0076719606295228004, time: 6.04651403427124\n",
      "\n",
      "==========Test result on benign test dataset==========\n",
      "[2023-02-15_18:24:12] Top-1 correct / Total: 9909/10000, Top-1 accuracy: 0.9909, Top-5 correct / Total: 10000/10000, Top-5 accuracy: 1.0, time: 0.9490282535552979\n",
      "\n",
      "==========Test result on poisoned test dataset==========\n",
      "[2023-02-15_18:24:13] Top-1 correct / Total: 9996/10000, Top-1 accuracy: 0.9996, Top-5 correct / Total: 10000/10000, Top-5 accuracy: 1.0, time: 2.2691903114318848\n",
      "\n",
      "[2023-02-15_18:24:17] Epoch:18/20, iteration:451/468, lr: 0.1, loss: 0.013455340638756752, time: 6.425402641296387\n",
      "\n",
      "==========Test result on benign test dataset==========\n",
      "[2023-02-15_18:24:18] Top-1 correct / Total: 9888/10000, Top-1 accuracy: 0.9888, Top-5 correct / Total: 10000/10000, Top-5 accuracy: 1.0, time: 0.9741907119750977\n",
      "\n",
      "==========Test result on poisoned test dataset==========\n",
      "[2023-02-15_18:24:19] Top-1 correct / Total: 9990/10000, Top-1 accuracy: 0.999, Top-5 correct / Total: 10000/10000, Top-5 accuracy: 1.0, time: 2.2081778049468994\n",
      "\n",
      "[2023-02-15_18:24:23] Epoch:19/20, iteration:450/468, lr: 0.1, loss: 0.02072695828974247, time: 6.022624731063843\n",
      "\n",
      "==========Test result on benign test dataset==========\n",
      "[2023-02-15_18:24:24] Top-1 correct / Total: 9905/10000, Top-1 accuracy: 0.9905, Top-5 correct / Total: 9999/10000, Top-5 accuracy: 0.9999, time: 0.9778251647949219\n",
      "\n",
      "==========Test result on poisoned test dataset==========\n",
      "[2023-02-15_18:24:26] Top-1 correct / Total: 9971/10000, Top-1 accuracy: 0.9971, Top-5 correct / Total: 10000/10000, Top-5 accuracy: 1.0, time: 2.310594320297241\n",
      "\n",
      "[2023-02-15_18:24:29] Epoch:20/20, iteration:449/468, lr: 0.1, loss: 0.034243810921907425, time: 6.199409008026123\n",
      "\n",
      "==========Test result on benign test dataset==========\n",
      "[2023-02-15_18:24:30] Top-1 correct / Total: 9895/10000, Top-1 accuracy: 0.9895, Top-5 correct / Total: 9999/10000, Top-5 accuracy: 0.9999, time: 0.970677375793457\n",
      "\n",
      "==========Test result on poisoned test dataset==========\n",
      "[2023-02-15_18:24:32] Top-1 correct / Total: 9992/10000, Top-1 accuracy: 0.9992, Top-5 correct / Total: 10000/10000, Top-5 accuracy: 1.0, time: 2.305027961730957\n",
      "\n"
     ]
    }
   ],
   "source": [
    "# Train Attacked Model (schedule is set by yamengxi)\n",
    "schedule = {\n",
    "    'device': 'GPU',\n",
    "    'CUDA_VISIBLE_DEVICES': CUDA_VISIBLE_DEVICES,\n",
    "    'GPU_num': 1,\n",
    "\n",
    "    'benign_training': False,\n",
    "    'batch_size': 128,\n",
    "    'num_workers': 2,\n",
    "\n",
    "    'lr': 0.1,\n",
    "    'momentum': 0.9,\n",
    "    'weight_decay': 5e-4,\n",
    "    'gamma': 0.1,\n",
    "    'schedule': [150, 180],\n",
    "\n",
    "    'epochs': 20,\n",
    "\n",
    "    'log_iteration_interval': 468,\n",
    "    'test_epoch_interval': 1,\n",
    "    'save_epoch_interval': 10,\n",
    "\n",
    "    'save_dir': 'experiments',\n",
    "    'experiment_name': 'BaselineMNISTNetwork_MNIST_BadNets'\n",
    "}\n",
    "badnets.train(schedule)"
   ]
  }
 ],
 "metadata": {
  "kernelspec": {
   "display_name": "Python 3",
   "language": "python",
   "name": "python3"
  },
  "language_info": {
   "codemirror_mode": {
    "name": "ipython",
    "version": 3
   },
   "file_extension": ".py",
   "mimetype": "text/x-python",
   "name": "python",
   "nbconvert_exporter": "python",
   "pygments_lexer": "ipython3",
   "version": "3.8.13"
  },
  "orig_nbformat": 4,
  "vscode": {
   "interpreter": {
    "hash": "7b65be0178ed4af8efbef8d91acc59585bdb31e57865fe049f2e50848d79df86"
   }
  }
 },
 "nbformat": 4,
 "nbformat_minor": 2
}
